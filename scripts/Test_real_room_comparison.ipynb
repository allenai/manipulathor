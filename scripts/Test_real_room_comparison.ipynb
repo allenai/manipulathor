{
 "cells": [
  {
   "cell_type": "code",
   "execution_count": null,
   "id": "30e2241e",
   "metadata": {},
   "outputs": [],
   "source": [
    "import matplotlib.pyplot as plt\n",
    "from ai2thor.controller import Controller\n",
    "import ai2thor.robot_controller\n",
    "import datetime\n",
    "import os\n",
    "import numpy as np\n",
    "import torch\n",
    "import cv2\n",
    "import sys\n",
    "sys.path.append('../')\n",
    "from utils.hacky_viz_utils import depth_to_rgb\n",
    "import time\n",
    "%matplotlib inline\n",
    "import matplotlib\n",
    "import matplotlib.pyplot as plt\n",
    "\n",
    "# controller = ai2thor.robot_controller.Controller(host=\"stretch3\", port=9000, width=1280, height=720)\n",
    "env_args = dict(\n",
    "    width = 400,\n",
    "    height = 300,\n",
    "#     fieldOfView = 58,\n",
    "#     fieldOfView = 42,\n",
    "    fieldOfView = 63.45,\n",
    ")\n",
    "controller = ai2thor.controller.Controller(renderDepthImage=True, renderInstanceSegmentation=True, branch='legacy_asset_fixes', agentMode='locobot', **env_args)\n",
    "controller._build.url"
   ]
  },
  {
   "cell_type": "code",
   "execution_count": null,
   "id": "c51f73fe",
   "metadata": {},
   "outputs": [],
   "source": [
    "controller.reset('FloorPlan_RoboTHOR_Real')"
   ]
  },
  {
   "cell_type": "code",
   "execution_count": null,
   "id": "1de375e6",
   "metadata": {},
   "outputs": [],
   "source": [
    "target_loc = [o for o in controller.last_event.metadata['objects'] if o['objectType'] == 'Sofa'][0]['position']\n",
    "target_loc = torch.Tensor([target_loc[k] for k in ['x','y','z']])\n",
    "controller.step('GetReachablePositions')\n",
    "reachable_position = controller.last_event.metadata['actionReturn']\n",
    "reachable_position = torch.Tensor([[obj[k] for k in ['x','y','z']] for obj in reachable_position])\n",
    "values, indices = torch.topk(torch.norm(reachable_position - target_loc, dim=-1), 20, largest=False)\n",
    "proximity_agent_locations = torch.Tensor([reachable_position[i].numpy() for i in indices])\n",
    "pencil_loc = [o for o in controller.last_event.metadata['objects'] if o['objectType'] == 'Pencil'][0]['position']\n",
    "pencil_loc = torch.Tensor([pencil_loc[k] for k in ['x','y','z']])\n",
    "values, indices = torch.topk(torch.norm(proximity_agent_locations - pencil_loc, dim=-1), 5, largest=False)\n",
    "indices = [indices[2]]\n",
    "for ind in indices:\n",
    "    initial_pose = proximity_agent_locations[ind].numpy()\n",
    "    event1 = controller.step(\n",
    "        dict(\n",
    "            action=\"TeleportFull\",\n",
    "            x=initial_pose[0],\n",
    "            y=initial_pose[1],\n",
    "            z=initial_pose[2],\n",
    "            rotation=dict(x=0, y=90, z=0),\n",
    "            horizon=0,\n",
    "        )\n",
    "    )\n",
    "#     plt.imshow(controller.last_event.frame)\n",
    "#     plt.show()\n",
    "    plt.imsave('simul.png', controller.last_event.frame)\n",
    "    time.sleep(2)\n",
    "    "
   ]
  },
  {
   "cell_type": "code",
   "execution_count": null,
   "id": "2a77c6b5",
   "metadata": {},
   "outputs": [],
   "source": [
    "target_loc = [o for o in controller.last_event.metadata['objects'] if o['objectType'] == 'Sofa'][0]['position']\n",
    "target_loc = torch.Tensor([target_loc[k] for k in ['x','y','z']])\n",
    "controller.step('GetReachablePositions')\n",
    "reachable_position = controller.last_event.metadata['actionReturn']\n",
    "reachable_position = torch.Tensor([[obj[k] for k in ['x','y','z']] for obj in reachable_position])\n",
    "values, indices = torch.topk(torch.norm(reachable_position - target_loc, dim=-1), 20, largest=False)\n",
    "# proximity_agent_locations = torch.Tensor([reachable_position[i].numpy() for i in indices])\n",
    "# pencil_loc = [o for o in controller.last_event.metadata['objects'] if o['objectType'] == 'Pencil'][0]['position']\n",
    "# pencil_loc = torch.Tensor([pencil_loc[k] for k in ['x','y','z']])\n",
    "# values, indices = torch.topk(torch.norm(proximity_agent_locations - pencil_loc, dim=-1), 5, largest=False)\n",
    "# indices = [indices[2]]\n",
    "indices = [indices[0]]\n",
    "for ind in indices:\n",
    "    initial_pose = reachable_position[ind].numpy()\n",
    "    event1 = controller.step(\n",
    "        dict(\n",
    "            action=\"TeleportFull\",\n",
    "            x=initial_pose[0],\n",
    "            y=initial_pose[1],\n",
    "            z=initial_pose[2],\n",
    "            rotation=dict(x=0, y=90, z=0),\n",
    "            horizon=0,\n",
    "        )\n",
    "    )\n",
    "#     plt.imshow(controller.last_event.frame)\n",
    "#     plt.show()\n",
    "    plt.imsave('simul.png', controller.last_event.frame)\n",
    "    time.sleep(2)\n",
    "    "
   ]
  },
  {
   "cell_type": "code",
   "execution_count": null,
   "id": "ae9c7d13",
   "metadata": {},
   "outputs": [],
   "source": [
    "host = 'loco4'\n",
    "# real_controller_args = {\"host\":host+\".corp.ai2\", \"port\":9000, \"width\":1280, \"height\":720}\n",
    "host = '172.16.121.184'\n",
    "real_controller_args = {\"host\":host, \"port\":9000, \"width\":1280, \"height\":720}\n",
    "controller = ai2thor.robot_controller.Controller(real_controller_args)\n",
    "# controller.step({\"action\": \"Initialize\"})\n",
    "controller.step({\"action\": \"Pass\"})"
   ]
  },
  {
   "cell_type": "code",
   "execution_count": null,
   "id": "16cc46be",
   "metadata": {},
   "outputs": [],
   "source": []
  }
 ],
 "metadata": {
  "kernelspec": {
   "display_name": "Python 3",
   "language": "python",
   "name": "python3"
  },
  "language_info": {
   "codemirror_mode": {
    "name": "ipython",
    "version": 3
   },
   "file_extension": ".py",
   "mimetype": "text/x-python",
   "name": "python",
   "nbconvert_exporter": "python",
   "pygments_lexer": "ipython3",
   "version": "3.6.9"
  }
 },
 "nbformat": 4,
 "nbformat_minor": 5
}
