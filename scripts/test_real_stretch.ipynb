{
 "cells": [
  {
   "cell_type": "code",
   "execution_count": 1,
   "id": "83154ccd",
   "metadata": {},
   "outputs": [
    {
     "name": "stdout",
     "output_type": "stream",
     "text": [
      "'-- Start:'\n",
      "'ACTION \"Initialize\"'\n",
      "'POST'\n",
      "200\n"
     ]
    },
    {
     "ename": "KeyError",
     "evalue": "'actionReturn'",
     "output_type": "error",
     "traceback": [
      "\u001b[0;31m---------------------------------------------------------------------------\u001b[0m",
      "\u001b[0;31mKeyError\u001b[0m                                  Traceback (most recent call last)",
      "\u001b[0;32m~/relax_sensor/lib/python3.6/site-packages/IPython/core/formatters.py\u001b[0m in \u001b[0;36m__call__\u001b[0;34m(self, obj)\u001b[0m\n\u001b[1;32m    700\u001b[0m                 \u001b[0mtype_pprinters\u001b[0m\u001b[0;34m=\u001b[0m\u001b[0mself\u001b[0m\u001b[0;34m.\u001b[0m\u001b[0mtype_printers\u001b[0m\u001b[0;34m,\u001b[0m\u001b[0;34m\u001b[0m\u001b[0;34m\u001b[0m\u001b[0m\n\u001b[1;32m    701\u001b[0m                 deferred_pprinters=self.deferred_printers)\n\u001b[0;32m--> 702\u001b[0;31m             \u001b[0mprinter\u001b[0m\u001b[0;34m.\u001b[0m\u001b[0mpretty\u001b[0m\u001b[0;34m(\u001b[0m\u001b[0mobj\u001b[0m\u001b[0;34m)\u001b[0m\u001b[0;34m\u001b[0m\u001b[0;34m\u001b[0m\u001b[0m\n\u001b[0m\u001b[1;32m    703\u001b[0m             \u001b[0mprinter\u001b[0m\u001b[0;34m.\u001b[0m\u001b[0mflush\u001b[0m\u001b[0;34m(\u001b[0m\u001b[0;34m)\u001b[0m\u001b[0;34m\u001b[0m\u001b[0;34m\u001b[0m\u001b[0m\n\u001b[1;32m    704\u001b[0m             \u001b[0;32mreturn\u001b[0m \u001b[0mstream\u001b[0m\u001b[0;34m.\u001b[0m\u001b[0mgetvalue\u001b[0m\u001b[0;34m(\u001b[0m\u001b[0;34m)\u001b[0m\u001b[0;34m\u001b[0m\u001b[0;34m\u001b[0m\u001b[0m\n",
      "\u001b[0;32m~/relax_sensor/lib/python3.6/site-packages/IPython/lib/pretty.py\u001b[0m in \u001b[0;36mpretty\u001b[0;34m(self, obj)\u001b[0m\n\u001b[1;32m    392\u001b[0m                         \u001b[0;32mif\u001b[0m \u001b[0mcls\u001b[0m \u001b[0;32mis\u001b[0m \u001b[0;32mnot\u001b[0m \u001b[0mobject\u001b[0m\u001b[0;31m \u001b[0m\u001b[0;31m\\\u001b[0m\u001b[0;34m\u001b[0m\u001b[0;34m\u001b[0m\u001b[0m\n\u001b[1;32m    393\u001b[0m                                 \u001b[0;32mand\u001b[0m \u001b[0mcallable\u001b[0m\u001b[0;34m(\u001b[0m\u001b[0mcls\u001b[0m\u001b[0;34m.\u001b[0m\u001b[0m__dict__\u001b[0m\u001b[0;34m.\u001b[0m\u001b[0mget\u001b[0m\u001b[0;34m(\u001b[0m\u001b[0;34m'__repr__'\u001b[0m\u001b[0;34m)\u001b[0m\u001b[0;34m)\u001b[0m\u001b[0;34m:\u001b[0m\u001b[0;34m\u001b[0m\u001b[0;34m\u001b[0m\u001b[0m\n\u001b[0;32m--> 394\u001b[0;31m                             \u001b[0;32mreturn\u001b[0m \u001b[0m_repr_pprint\u001b[0m\u001b[0;34m(\u001b[0m\u001b[0mobj\u001b[0m\u001b[0;34m,\u001b[0m \u001b[0mself\u001b[0m\u001b[0;34m,\u001b[0m \u001b[0mcycle\u001b[0m\u001b[0;34m)\u001b[0m\u001b[0;34m\u001b[0m\u001b[0;34m\u001b[0m\u001b[0m\n\u001b[0m\u001b[1;32m    395\u001b[0m \u001b[0;34m\u001b[0m\u001b[0m\n\u001b[1;32m    396\u001b[0m             \u001b[0;32mreturn\u001b[0m \u001b[0m_default_pprint\u001b[0m\u001b[0;34m(\u001b[0m\u001b[0mobj\u001b[0m\u001b[0;34m,\u001b[0m \u001b[0mself\u001b[0m\u001b[0;34m,\u001b[0m \u001b[0mcycle\u001b[0m\u001b[0;34m)\u001b[0m\u001b[0;34m\u001b[0m\u001b[0;34m\u001b[0m\u001b[0m\n",
      "\u001b[0;32m~/relax_sensor/lib/python3.6/site-packages/IPython/lib/pretty.py\u001b[0m in \u001b[0;36m_repr_pprint\u001b[0;34m(obj, p, cycle)\u001b[0m\n\u001b[1;32m    698\u001b[0m     \u001b[0;34m\"\"\"A pprint that just redirects to the normal repr function.\"\"\"\u001b[0m\u001b[0;34m\u001b[0m\u001b[0;34m\u001b[0m\u001b[0m\n\u001b[1;32m    699\u001b[0m     \u001b[0;31m# Find newlines and replace them with p.break_()\u001b[0m\u001b[0;34m\u001b[0m\u001b[0;34m\u001b[0m\u001b[0;34m\u001b[0m\u001b[0m\n\u001b[0;32m--> 700\u001b[0;31m     \u001b[0moutput\u001b[0m \u001b[0;34m=\u001b[0m \u001b[0mrepr\u001b[0m\u001b[0;34m(\u001b[0m\u001b[0mobj\u001b[0m\u001b[0;34m)\u001b[0m\u001b[0;34m\u001b[0m\u001b[0;34m\u001b[0m\u001b[0m\n\u001b[0m\u001b[1;32m    701\u001b[0m     \u001b[0mlines\u001b[0m \u001b[0;34m=\u001b[0m \u001b[0moutput\u001b[0m\u001b[0;34m.\u001b[0m\u001b[0msplitlines\u001b[0m\u001b[0;34m(\u001b[0m\u001b[0;34m)\u001b[0m\u001b[0;34m\u001b[0m\u001b[0;34m\u001b[0m\u001b[0m\n\u001b[1;32m    702\u001b[0m     \u001b[0;32mwith\u001b[0m \u001b[0mp\u001b[0m\u001b[0;34m.\u001b[0m\u001b[0mgroup\u001b[0m\u001b[0;34m(\u001b[0m\u001b[0;34m)\u001b[0m\u001b[0;34m:\u001b[0m\u001b[0;34m\u001b[0m\u001b[0;34m\u001b[0m\u001b[0m\n",
      "\u001b[0;32m~/relax_sensor/lib/python3.6/site-packages/ai2thor/server.py\u001b[0m in \u001b[0;36m__repr__\u001b[0;34m(self)\u001b[0m\n\u001b[1;32m    347\u001b[0m     \u001b[0;32mdef\u001b[0m \u001b[0m__repr__\u001b[0m\u001b[0;34m(\u001b[0m\u001b[0mself\u001b[0m\u001b[0;34m)\u001b[0m\u001b[0;34m:\u001b[0m\u001b[0;34m\u001b[0m\u001b[0;34m\u001b[0m\u001b[0m\n\u001b[1;32m    348\u001b[0m         \u001b[0;34m\"\"\"Summarizes the results from an Event.\"\"\"\u001b[0m\u001b[0;34m\u001b[0m\u001b[0;34m\u001b[0m\u001b[0m\n\u001b[0;32m--> 349\u001b[0;31m         \u001b[0maction_return\u001b[0m \u001b[0;34m=\u001b[0m \u001b[0mstr\u001b[0m\u001b[0;34m(\u001b[0m\u001b[0mself\u001b[0m\u001b[0;34m.\u001b[0m\u001b[0mmetadata\u001b[0m\u001b[0;34m[\u001b[0m\u001b[0;34m\"actionReturn\"\u001b[0m\u001b[0;34m]\u001b[0m\u001b[0;34m)\u001b[0m\u001b[0;34m\u001b[0m\u001b[0;34m\u001b[0m\u001b[0m\n\u001b[0m\u001b[1;32m    350\u001b[0m         \u001b[0;32mif\u001b[0m \u001b[0mlen\u001b[0m\u001b[0;34m(\u001b[0m\u001b[0maction_return\u001b[0m\u001b[0;34m)\u001b[0m \u001b[0;34m>\u001b[0m \u001b[0;36m100\u001b[0m\u001b[0;34m:\u001b[0m\u001b[0;34m\u001b[0m\u001b[0;34m\u001b[0m\u001b[0m\n\u001b[1;32m    351\u001b[0m             \u001b[0maction_return\u001b[0m \u001b[0;34m=\u001b[0m \u001b[0maction_return\u001b[0m\u001b[0;34m[\u001b[0m\u001b[0;34m:\u001b[0m\u001b[0;36m100\u001b[0m\u001b[0;34m]\u001b[0m \u001b[0;34m+\u001b[0m \u001b[0;34m\"...\"\u001b[0m\u001b[0;34m\u001b[0m\u001b[0;34m\u001b[0m\u001b[0m\n",
      "\u001b[0;32m~/relax_sensor/lib/python3.6/site-packages/ai2thor/server.py\u001b[0m in \u001b[0;36m__getitem__\u001b[0;34m(self, x)\u001b[0m\n\u001b[1;32m    296\u001b[0m                 )\n\u001b[1;32m    297\u001b[0m                 \u001b[0mx\u001b[0m \u001b[0;34m=\u001b[0m \u001b[0;34m\"heldObjectPose\"\u001b[0m\u001b[0;34m\u001b[0m\u001b[0;34m\u001b[0m\u001b[0m\n\u001b[0;32m--> 298\u001b[0;31m         \u001b[0;32mreturn\u001b[0m \u001b[0msuper\u001b[0m\u001b[0;34m(\u001b[0m\u001b[0;34m)\u001b[0m\u001b[0;34m.\u001b[0m\u001b[0m__getitem__\u001b[0m\u001b[0;34m(\u001b[0m\u001b[0mx\u001b[0m\u001b[0;34m)\u001b[0m\u001b[0;34m\u001b[0m\u001b[0;34m\u001b[0m\u001b[0m\n\u001b[0m\u001b[1;32m    299\u001b[0m \u001b[0;34m\u001b[0m\u001b[0m\n\u001b[1;32m    300\u001b[0m \u001b[0;34m\u001b[0m\u001b[0m\n",
      "\u001b[0;31mKeyError\u001b[0m: 'actionReturn'"
     ]
    }
   ],
   "source": [
    "import matplotlib.pyplot as plt\n",
    "from ai2thor.controller import Controller\n",
    "import ai2thor.robot_controller\n",
    "import datetime\n",
    "import os\n",
    "import numpy as np\n",
    "import torch\n",
    "import cv2\n",
    "import sys\n",
    "sys.path.append('../')\n",
    "from utils.hacky_viz_utils import depth_to_rgb\n",
    "\n",
    "%matplotlib inline\n",
    "import matplotlib\n",
    "import matplotlib.pyplot as plt\n",
    "\n",
    "controller = ai2thor.robot_controller.Controller(host=\"stretch2\", port=9000, width=1280, height=720) # TODO frame width and height?\n",
    "# controller = ai2thor.robot_controller.Controller(host=\"172.16.121.188\", port=9000, width=1280, height=720) # TODO frame width and height?\n",
    "controller.step('Initialize')\n",
    "\n"
   ]
  },
  {
   "cell_type": "code",
   "execution_count": 5,
   "id": "0ede73fc",
   "metadata": {},
   "outputs": [],
   "source": [
    "def visualize(controller, save_frame = False, separate_frame=False):\n",
    "#     image_kinect = controller.last_event.frame\n",
    "#     depth_kinect = controller.last_event.depth_frame\n",
    "#     image_intel = controller.last_event.third_party_camera_frames[0]\n",
    "#     depth_intel = controller.last_event.third_party_depth_frames[0]\n",
    "\n",
    "    \n",
    "    image_kinect = controller.last_event.frame\n",
    "    depth_kinect = controller.last_event.depth_frame\n",
    "    image_intel = controller.last_event.third_party_camera_frames[0]\n",
    "    depth_intel = controller.last_event.third_party_depth_frames[0]\n",
    "    \n",
    "    #TODO this needs to be change\n",
    "    depth_intel = depth_to_rgb(depth_intel)\n",
    "    depth_kinect = depth_to_rgb(depth_kinect)\n",
    "\n",
    "    depth_intel = rotate_frame(depth_intel)\n",
    "    image_intel = rotate_frame(image_intel)\n",
    "    \n",
    "    [image_intel_original, image_kinect_original,depth_intel_original, depth_kinect_original] = [x.copy() for x in [image_intel, image_kinect,depth_intel, depth_kinect]]\n",
    "\n",
    "    image_kinect = no_distortion_resize(image_kinect, 224)\n",
    "    depth_kinect = no_distortion_resize(depth_kinect, 224)\n",
    "\n",
    "    image_intel = no_distortion_resize(image_intel, 224)[:,::-1]\n",
    "    depth_intel = no_distortion_resize(depth_intel, 224)\n",
    "\n",
    "    combined = np.concatenate([image_intel,depth_intel,image_kinect, depth_kinect], axis=1)  / 255.\n",
    "    \n",
    "    if save_frame:\n",
    "        path_to_save = '/Users/kianae/Desktop/real_stretch_images'\n",
    "        os.makedirs(path_to_save, exist_ok=True)\n",
    "        now = datetime.datetime.now().strftime(\"%m_%d_%Y_%H_%M_%S_%f\")\n",
    "        plt.imsave(os.path.join(path_to_save, now+'.png'), combined)\n",
    "        if separate_frame:\n",
    "            for (i, image) in enumerate([image_intel_original, image_kinect_original,depth_intel_original, depth_kinect_original]):\n",
    "                plt.imsave(os.path.join(path_to_save, now+f'_{i}.png'), image / 255.)\n",
    "    else:\n",
    "        plt.imshow(combined)\n",
    "        plt.show()\n",
    "#         return combined\n",
    "    \n",
    "def no_distortion_resize(frame, size):\n",
    "    current_size = frame.shape\n",
    "    bigger_size = max(current_size[0], current_size[1])\n",
    "    ratio = size / bigger_size\n",
    "    w,h = (int(current_size[0] * ratio), int(current_size[1] * ratio))\n",
    "    \n",
    "    resized_frame = cv2.resize(frame,(h,w))\n",
    "    result = np.zeros((size, size, 3))\n",
    "    start_w = int(size / 2 - w / 2)\n",
    "    end_w = start_w + w\n",
    "    start_h = int(size / 2 - h / 2)\n",
    "    end_h = start_h + h\n",
    "    result[start_w:end_w,start_h:end_h] = resized_frame\n",
    "    return result\n",
    "def rotate_frame(frame, deg=90):\n",
    "    return cv2.rotate(frame, cv2.ROTATE_90_CLOCKWISE)\n",
    "\n",
    "def manual_run(save_frame=False):\n",
    "    while(True):\n",
    "        visualize(controller, save_frame=save_frame)\n",
    "        if save_frame:\n",
    "            visualize(controller, False)\n",
    "\n",
    "        action_options = ['m', 'r', 'l', 'b', 'hu', 'hd', 'ao', 'ai', 'go', 'gc', 'wp', 'wn']\n",
    "        action = input()\n",
    "        if action == 'q':\n",
    "            break\n",
    "        if action == 'm':\n",
    "            controller.step('MoveAhead')\n",
    "        if action == 'b':\n",
    "            controller.step('MoveBack')\n",
    "        if action == 'r':\n",
    "            controller.step('RotateRight')\n",
    "        if action == 'l':\n",
    "            controller.step('RotateLeft')\n",
    "        if action == 'hu':\n",
    "            controller.step('MoveArmBaseP')\n",
    "        if action == 'hd':\n",
    "            controller.step('MoveArmBaseN')\n",
    "        if action == 'ao':\n",
    "            controller.step('MoveArmTargetP')\n",
    "        if action == 'ai':\n",
    "            controller.step('MoveArmTargetN')\n",
    "        if action == 'wp':\n",
    "            controller.step('MoveWristP')\n",
    "        if action == 'wn':\n",
    "            controller.step('MoveWristN')\n",
    "        if action == 'go':\n",
    "            controller.step('GraspOpen')\n",
    "        if action == 'gc':\n",
    "            controller.step('GraspClose')\n",
    "\n",
    "    "
   ]
  },
  {
   "cell_type": "code",
   "execution_count": 6,
   "id": "9391f40a",
   "metadata": {},
   "outputs": [],
   "source": [
    "visualize(controller,True, True)"
   ]
  },
  {
   "cell_type": "code",
   "execution_count": null,
   "id": "3ddfe891",
   "metadata": {},
   "outputs": [],
   "source": [
    "manual_run(True)"
   ]
  },
  {
   "cell_type": "markdown",
   "id": "182f8e98",
   "metadata": {},
   "source": [
    "controller.last_event.frame.shape\n"
   ]
  },
  {
   "cell_type": "code",
   "execution_count": null,
   "id": "d63c4749",
   "metadata": {},
   "outputs": [],
   "source": []
  }
 ],
 "metadata": {
  "kernelspec": {
   "display_name": "Python 3",
   "language": "python",
   "name": "python3"
  },
  "language_info": {
   "codemirror_mode": {
    "name": "ipython",
    "version": 3
   },
   "file_extension": ".py",
   "mimetype": "text/x-python",
   "name": "python",
   "nbconvert_exporter": "python",
   "pygments_lexer": "ipython3",
   "version": "3.6.9"
  }
 },
 "nbformat": 4,
 "nbformat_minor": 5
}
