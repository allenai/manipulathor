{
 "cells": [
  {
   "cell_type": "code",
   "execution_count": 40,
   "id": "83154ccd",
   "metadata": {},
   "outputs": [
    {
     "name": "stdout",
     "output_type": "stream",
     "text": [
      "'-- Start:'\n"
     ]
    }
   ],
   "source": [
    "import matplotlib.pyplot as plt\n",
    "from ai2thor.controller import Controller\n",
    "import ai2thor.robot_controller\n",
    "import datetime\n",
    "import os\n",
    "import numpy as np\n",
    "import torch\n",
    "import cv2\n",
    "import sys\n",
    "sys.path.append('../')\n",
    "from utils.hacky_viz_utils import depth_to_rgb\n",
    "\n",
    "%matplotlib inline\n",
    "import matplotlib\n",
    "import matplotlib.pyplot as plt\n",
    "\n",
    "# controller = ai2thor.robot_controller.Controller(host=\"stretch3\", port=9000, width=1280, height=720) # TODO frame width and height?\n",
    "# controller = ai2thor.robot_controller.Controller(host=\"172.16.121.188\", port=9000, width=1280, height=720) # TODO frame width and height?\n",
    "stretch_3_adr = '172.16.2.185'\n",
    "stretch_1_adr = '172.16.3.48'\n",
    "controller = ai2thor.robot_controller.Controller(host=stretch_1_adr, port=9000, width=1280, height=720)\n",
    "# controller = ai2thor.robot_controller.Controller(host=\"loco4\", port=9000, width=1280, height=720) # TODO frame width and height?\n",
    "\n"
   ]
  },
  {
   "cell_type": "code",
   "execution_count": 74,
   "id": "0ede73fc",
   "metadata": {},
   "outputs": [],
   "source": [
    "def visualize(controller, save_frame = False, separate_frame=False):\n",
    "#     image_kinect = controller.last_event.frame\n",
    "#     depth_kinect = controller.last_event.depth_frame\n",
    "#     image_intel = controller.last_event.third_party_camera_frames[0]\n",
    "#     depth_intel = controller.last_event.third_party_depth_frames[0]\n",
    "\n",
    "    if save_frame:\n",
    "        path_to_save = '/Users/kianae/Desktop/real_stretch_images'\n",
    "        os.makedirs(path_to_save, exist_ok=True)\n",
    "        now = datetime.datetime.now().strftime(\"%m_%d_%Y_%H_%M_%S_%f\")\n",
    "        \n",
    "    image_nav = controller.last_event.frame\n",
    "    depth_nav = controller.last_event.depth_frame\n",
    "    image_manip = controller.last_event.third_party_camera_frames[0]\n",
    "    depth_manip = controller.last_event.third_party_depth_frames[0]\n",
    "    \n",
    "    depth_nav = jupyter_depth_to_rgb(depth_nav)\n",
    "    depth_manip = jupyter_depth_to_rgb(depth_manip)\n",
    "\n",
    "    image_nav = rotate_frame(image_nav)\n",
    "    depth_nav = rotate_frame(depth_nav)\n",
    "    \n",
    "    [image_nav, depth_nav,image_manip, depth_manip] = [x.copy() for x in [image_nav, depth_nav,image_manip, depth_manip]]\n",
    "    \n",
    "    if separate_frame and save_frame:\n",
    "        for (i, image) in enumerate([image_nav, depth_nav,image_manip, depth_manip]):\n",
    "            plt.imsave(os.path.join(path_to_save, now+f'_{i}.png'), image / 255.)\n",
    "\n",
    "    [image_nav, depth_nav,image_manip, depth_manip] = [no_distortion_resize(x, 224) for x in [image_nav, depth_nav,image_manip, depth_manip]]\n",
    "#     [image_nav, depth_nav,image_manip, depth_manip] = [no_pad_w_distort_resize(x, 224) for x in [image_nav, depth_nav,image_manip, depth_manip]]\n",
    "\n",
    "\n",
    "    combined = np.concatenate([image_nav, depth_nav,image_manip, depth_manip], axis=1)  / 255.\n",
    "    \n",
    "    if save_frame:\n",
    "        \n",
    "        plt.imsave(os.path.join(path_to_save, now+'.png'), combined)\n",
    "        \n",
    "    else:\n",
    "        plt.imshow(combined)\n",
    "        plt.show()\n",
    "#         return combined\n",
    "\n",
    "def no_pad_w_distort_resize(frame, size):\n",
    "    current_size = frame.shape\n",
    "    resized_frame = cv2.resize(frame,(size,size))\n",
    "    return resized_frame\n",
    "\n",
    "def no_distortion_resize(frame, size):\n",
    "    current_size = frame.shape\n",
    "    bigger_size = max(current_size[0], current_size[1])\n",
    "    ratio = size / bigger_size\n",
    "    w,h = (int(current_size[0] * ratio), int(current_size[1] * ratio))\n",
    "    \n",
    "    resized_frame = cv2.resize(frame,(h,w))\n",
    "    result = np.zeros((size, size, 3))\n",
    "    start_w = int(size / 2 - w / 2)\n",
    "    end_w = start_w + w\n",
    "    start_h = int(size / 2 - h / 2)\n",
    "    end_h = start_h + h\n",
    "    result[start_w:end_w,start_h:end_h] = resized_frame\n",
    "    return result\n",
    "def rotate_frame(frame, deg=90):\n",
    "    return cv2.rotate(frame, cv2.ROTATE_90_CLOCKWISE)\n",
    "\n",
    "def manual_run(save_frame=False):\n",
    "    while(True):\n",
    "        visualize(controller, save_frame=save_frame)\n",
    "        if save_frame:\n",
    "            visualize(controller, False)\n",
    "\n",
    "        action_options = ['m', 'r', 'l', 'b', 'hp', 'hm', 'zp', 'zm', 'go', 'gc', 'wp', 'wm']\n",
    "        action = input()\n",
    "        if action == 'q':\n",
    "            break\n",
    "        if action == 'm':\n",
    "            controller.step('MoveAhead')\n",
    "        if action == 'b':\n",
    "            controller.step('MoveBack')\n",
    "        if action == 'r':\n",
    "            controller.step('RotateRight')\n",
    "        if action == 'l':\n",
    "            controller.step('RotateLeft')\n",
    "        if action == 'rs':\n",
    "            controller.step('RotateRightSmall')\n",
    "        if action == 'ls':\n",
    "            controller.step('RotateLeftSmall')\n",
    "        if action == 'hp':\n",
    "            controller.step('MoveArmBaseP')\n",
    "        if action == 'hm':\n",
    "            controller.step('MoveArmBaseN')\n",
    "        if action == 'zp':\n",
    "            controller.step('MoveArmTargetP')\n",
    "        if action == 'zm':\n",
    "            controller.step('MoveArmTargetN')\n",
    "        if action == 'wp':\n",
    "            controller.step('MoveWristP')\n",
    "        if action == 'wm':\n",
    "            controller.step('MoveWristN')\n",
    "        if action == 'wps':\n",
    "            controller.step('MoveWristPSmall')\n",
    "        if action == 'wms':\n",
    "            controller.step('MoveWristNSmall')\n",
    "        if action == 'go':\n",
    "            controller.step('GraspOpen')\n",
    "        if action == 'gc':\n",
    "            controller.step('GraspClose')\n",
    "\n",
    "def jupyter_depth_to_rgb(frame):\n",
    "    max_frame = 3\n",
    "    frame[frame == 0] = max_frame\n",
    "    frame[frame > max_frame] = max_frame\n",
    "    frame = frame / max_frame * 255.\n",
    "    frame = frame.astype(np.uint8)\n",
    "    frame = np.expand_dims(frame, axis=-1)\n",
    "    frame = np.tile(frame,(1,1,3))\n",
    "    return frame"
   ]
  },
  {
   "cell_type": "code",
   "execution_count": 41,
   "id": "64bfb09a",
   "metadata": {},
   "outputs": [
    {
     "name": "stdout",
     "output_type": "stream",
     "text": [
      "'ACTION \"Initialize\"'\n",
      "'POST'\n",
      "200\n"
     ]
    }
   ],
   "source": [
    "controller.step('Initialize')\n",
    "visualize(controller,True, True)"
   ]
  },
  {
   "cell_type": "code",
   "execution_count": 72,
   "id": "9391f40a",
   "metadata": {},
   "outputs": [
    {
     "name": "stdout",
     "output_type": "stream",
     "text": [
      "'ACTION \"Pass\"'\n",
      "'POST'\n",
      "200\n"
     ]
    }
   ],
   "source": [
    "controller.step('Pass')\n",
    "visualize(controller,True, True)"
   ]
  },
  {
   "cell_type": "code",
   "execution_count": 75,
   "id": "1c56b3f6",
   "metadata": {},
   "outputs": [],
   "source": [
    "visualize(controller,True, True)"
   ]
  },
  {
   "cell_type": "code",
   "execution_count": 10,
   "id": "f10adba9",
   "metadata": {},
   "outputs": [
    {
     "data": {
      "image/png": "[encoded data removed]",
      "text/plain": [
       "<Figure size 432x288 with 1 Axes>"
      ]
     },
     "metadata": {
      "needs_background": "light"
     },
     "output_type": "display_data"
    },
    {
     "name": "stdout",
     "output_type": "stream",
     "text": [
      "q\n"
     ]
    }
   ],
   "source": [
    "manual_run(True)"
   ]
  },
  {
   "cell_type": "code",
   "execution_count": null,
   "id": "74b1fe8f",
   "metadata": {},
   "outputs": [],
   "source": []
  }
 ],
 "metadata": {
  "kernelspec": {
   "display_name": "Python 3",
   "language": "python",
   "name": "python3"
  },
  "language_info": {
   "codemirror_mode": {
    "name": "ipython",
    "version": 3
   },
   "file_extension": ".py",
   "mimetype": "text/x-python",
   "name": "python",
   "nbconvert_exporter": "python",
   "pygments_lexer": "ipython3",
   "version": "3.6.9"
  }
 },
 "nbformat": 4,
 "nbformat_minor": 5
}
