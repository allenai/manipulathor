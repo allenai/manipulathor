{
 "cells": [
  {
   "cell_type": "code",
   "execution_count": null,
   "id": "93156cb0",
   "metadata": {},
   "outputs": [],
   "source": [
    "import math\n",
    "import pdb\n",
    "import platform\n",
    "\n",
    "import ai2thor\n",
    "import copy\n",
    "import time\n",
    "import random\n",
    "import ai2thor.controller\n",
    "import datetime\n",
    "import cv2\n",
    "import os\n",
    "import matplotlib\n",
    "\n",
    "import matplotlib.pyplot as plt\n",
    "import os\n",
    "import numpy as np\n",
    "# from utils.mid_level_constants import  scene_start_cheating_init_pose\n",
    "import sys\n",
    "from IPython.display import Image, display\n",
    "import PIL.Image\n",
    "sys.path.append('../')\n",
    "\n",
    "from scripts.jupyter_helper import get_reachable_positions\n",
    "from scripts.stretch_jupyter_helper import two_dict_equal, ARM_MOVE_CONSTANT, get_current_arm_state, only_reset_scene, transport_wrapper, ADITIONAL_ARM_ARGS, execute_command, WRIST_ROTATION, get_current_wrist_state\n",
    "from utils.stretch_utils.stretch_constants import STRETCH_ENV_ARGS\n",
    "matplotlib.use('TkAgg')\n",
    "screen_size=224\n",
    "\n",
    "STRETCH_ENV_ARGS['width'] = screen_size\n",
    "STRETCH_ENV_ARGS['height'] = screen_size\n",
    "STRETCH_ENV_ARGS['agentMode']='stretch'\n",
    "STRETCH_ENV_ARGS['commit_id']='7184aa455bc21cc38406487a3d8e2d65ceba2571'\n",
    "STRETCH_ENV_ARGS['renderDepthImage'] = True\n",
    "STRETCH_ENV_ARGS['renderInstanceSegmentation'] = True\n"
   ]
  },
  {
   "cell_type": "code",
   "execution_count": null,
   "id": "fb44ec6a",
   "metadata": {},
   "outputs": [],
   "source": [
    "\n",
    "action_options = ['m', 'r', 'l', 'b', 'hu', 'hd', 'ao', 'ai', 'go', 'gc', 'wp', 'wn']\n",
    "\n",
    "kitchens = [f\"FloorPlan{i}\" for i in range(1, 31)]\n",
    "living_rooms = [f\"FloorPlan{200 + i}\" for i in range(1, 31)]\n",
    "bedrooms = [f\"FloorPlan{300 + i}\" for i in range(1, 31)]\n",
    "bathrooms = [f\"FloorPlan{400 + i}\" for i in range(1, 31)]\n",
    "\n",
    "all_scenes = kitchens + living_rooms + bedrooms + bathrooms\n",
    "NUM_TESTS = 100\n",
    "EPS_LEN = 500\n",
    "\n",
    "def setup_thirdparty_camera(controller, camera_position):\n",
    "    # controller.step('Pass')\n",
    "    if len(controller.last_event.third_party_camera_frames) > 1:\n",
    "        controller.step('UpdateThirdPartyCamera',\n",
    "            thirdPartyCameraId=1, # id is available in the metadata response\n",
    "            rotation=camera_position['rotation'],\n",
    "            position=camera_position['position']\n",
    "            )\n",
    "    else:\n",
    "        controller.step('AddThirdPartyCamera', \n",
    "            rotation=camera_position['rotation'], \n",
    "            position=camera_position['position'],\n",
    "            fieldOfView=100)\n",
    "\n",
    "def manual_task(controller, scene_name, logger_number =0, final=False, save_frames = False, init_sequence=[], verbose = False):\n",
    "    only_reset_scene(controller, scene_name)\n",
    "    all_actions = []\n",
    "    all_action_details = []\n",
    "    actions_ran_so_far = 0\n",
    "    while(True):\n",
    "        visualize(controller, save_frames)\n",
    "        if len(init_sequence) > 0:\n",
    "            action = init_sequence[0]\n",
    "            init_sequence = init_sequence[1:]\n",
    "        else:\n",
    "            action = input('action?')\n",
    "        if action == 'q':\n",
    "            break\n",
    "        all_actions.append(action)\n",
    "\n",
    "        detail = execute_command(controller, action, ADITIONAL_ARM_ARGS)\n",
    "        if verbose:\n",
    "            print(detail, controller.last_event.metadata['lastActionSuccess'])\n",
    "        all_action_details.append(detail)\n",
    "        actions_ran_so_far += 1\n",
    "\n",
    "        # controller.step(action='MoveArm', coordinateSpace=\"wrist\", position=dict(x=0, y=0.2,z=0.2));visualize(controller, save_frames)\n",
    "        # controller.step(action='RotateWristRelative', yaw=90);visualize(controller, save_frames)\n",
    "\n",
    "    print(scene_name)\n",
    "    print(all_actions)\n",
    "    print(all_action_details)\n",
    "\n",
    "def visualize(controller, save_frame=False):\n",
    "    image = controller.last_event.frame\n",
    "    arm_view = controller.last_event.third_party_camera_frames[0]\n",
    "#     third_view = controller.last_event.third_party_camera_frames[1]\n",
    "\n",
    "    combined=np.concatenate([image, arm_view], 1)\n",
    "    im = PIL.Image.fromarray(combined)\n",
    "    display(im)\n",
    "    \n",
    "    if STRETCH_ENV_ARGS['renderInstanceSegmentation']:\n",
    "        print(set([k.split('|')[0] for k in controller.last_event.instance_masks.keys()]))\n",
    "        print(set([k.split('|')[0] for k in controller.last_event.third_party_instance_masks[0].keys()]))\n",
    "    \n",
    "    if save_frame:\n",
    "        saved_image_folder = '/Users/kianae/Desktop/saved_stretch_images_jupyter'\n",
    "        os.makedirs(saved_image_folder, exist_ok=True)\n",
    "        imagename = datetime.datetime.now().strftime(\"%m_%d_%Y_%H_%M_%S.%f\")\n",
    "        plt.imsave(os.path.join(saved_image_folder, imagename+'.png'), combined)\n",
    "    \n",
    "\n"
   ]
  },
  {
   "cell_type": "code",
   "execution_count": null,
   "id": "70070e55",
   "metadata": {},
   "outputs": [],
   "source": [
    "controller = ai2thor.controller.Controller(**STRETCH_ENV_ARGS)"
   ]
  },
  {
   "cell_type": "code",
   "execution_count": null,
   "id": "7f08161a",
   "metadata": {
    "scrolled": true
   },
   "outputs": [],
   "source": [
    "# manual_task(controller, 'FloorPlan15', logger_number =0, init_sequence=['m', 'm', 'r', 'r', 'm', 'm', 'm', 'm', 'm', 'l', 'l', 'l', 'hu', 'hu', 'hu', 'hu', 'hu', 'hu', 'hu', 'hu', 'hu', 'hu', 'hu', 'hu', 'hu', 'hu', 'hu', 'hu', 'hu', 'hu', 'hu', 'hu', '/', 'zo', 'zo', 'zp', 'zp', 'ao', 'ao', 'ao', 'r', 'ao', 'p', 'hd', 'ao', 'ao', 'ao', 'ao', 'hd', 'hd', 'hd', '', 'hd', 'hd', 'ao', 'ao', 'wp', 'wn', 'wn', 'wn', 'wn', '/', 'p', 'u', 'u', 'hu', 'hu', 'r', 'r', 'r', 'r', 'r', 'm', 'm', 'm', 'd', 'ai', 'ai', 'ai', 'ai', 'ai', 'ai', 'r', 'r', 'l', 'ao', 'hd', 'hd', 'hd', 'hd', 'hd', 'hd', 'hd', 'hd', 'hd', 'dh', 'dh', 'hd', 'hd', 'hd', 'hd', 'hd', 'dh', 'ao', 'ao', 'ao', 'ao', 'l', 'hd', 'hd', 'hd', 'hd', 'hd', 'hd', 'hd', 'hd', 'ao', 'ao', '/', 'p', 'hu', 'hu', 'hu', 'hu', 'hu', 'hu', 'hu', 'hu', 'hu', 'd', 'r', 'r', 'r', 'r', 'm', 'm', 'm', 'm', 'm', 'm', '', 'mm', 'm', 'm', 'm', 'm', 'm', 'm', 'm'], save_frames=True, final=True)\n",
    "manual_task(controller, 'FloorPlan15', logger_number =0, init_sequence=['m', 'm', 'r', 'r', 'm', 'm', 'm', 'm', 'm', 'l', 'l', 'l', 'hu', 'hu', 'hu', 'hu', 'hu', 'hu', 'hu', 'hu', 'hu', 'hu', 'hu', 'hu', 'hu', 'hu', 'hu', 'hu', 'hu', 'hu', 'hu', 'hu', '/', 'zo', 'zo', 'zp', 'zp', 'ao', 'ao', 'ao', 'r', 'ao', 'p', 'hd', 'ao', 'ao', 'ao', 'ao', 'hd', 'hd', 'hd', '', 'hd', 'hd', 'ao', 'ao', 'wp', 'wn', 'wn', 'wn', 'wn', '/', 'p', 'u', 'u', 'hu', 'hu', 'r', 'r', 'r', 'r', 'r', 'm', 'm', 'm', 'd', 'ai', 'ai', 'ai', 'ai', 'ai', 'ai', 'r', 'r', 'l', 'ao', 'hd', 'hd', 'hd', 'hd', 'hd', 'hd', 'hd', 'hd', 'hd', 'dh', 'dh', 'hd', 'hd', 'hd', 'hd', 'hd', 'dh', 'ao', 'ao', 'ao', 'ao', 'l', 'hd', 'hd', 'hd', 'hd', 'hd', 'hd', 'hd', 'hd', 'ao', 'ao', '/', 'p', 'hu', 'hu', 'hu', 'hu', 'hu', 'hu', 'hu', 'hu', 'hu', 'd', 'r', 'r', 'r', 'r', 'm', 'm', 'm', 'm', 'm', 'm', '', 'mm', 'm', 'm', 'm', 'm', 'm', 'm', 'm', 'r', 'r', 'r', 'b', 'b', 'b', 'b', 'b', 'b', 'b', 'b', 'b', 'b', 'b', 'b', 'b', 'u', 'u', 'hu', 'hu', 'hu', 'hu', 'hu', 'hu', 'hu', 'hu', 'hu', 'hu', 'r', 'ao', 'p', 'u', 'u', 'hu', 'hu', 'l', 'l', 'l', 'l', 'l', 'l', 'l', 'hu', 'hu', 'hu', 'hu', 'hu', 'hu'], save_frames=True, final=False)"
   ]
  },
  {
   "cell_type": "raw",
   "id": "d716b706",
   "metadata": {},
   "source": [
    "['m', 'm', 'r', 'r', 'm', 'm', 'm', 'm', 'm', 'l', 'l', 'l', 'hu', 'hu', 'hu', 'hu', 'hu', 'hu', 'hu', 'hu', 'hu', 'hu', 'hu', 'hu', 'hu', 'hu', 'hu', 'hu', 'hu', 'hu', 'hu', 'hu', '/', 'zo', 'zo', 'zp', 'zp', 'ao', 'ao', 'ao', 'r', 'ao', 'p', 'hd', 'ao', 'ao', 'ao', 'ao', 'hd', 'hd', 'hd', '', 'hd', 'hd', 'ao', 'ao', 'wp', 'wn', 'wn', 'wn', 'wn', '/', 'p', 'u', 'u', 'hu', 'hu', 'r', 'r', 'r', 'r', 'r', 'm', 'm', 'm', 'd', 'ai', 'ai', 'ai', 'ai', 'ai', 'ai', 'r', 'r', 'l', 'ao', 'hd', 'hd', 'hd', 'hd', 'hd', 'hd', 'hd', 'hd', 'hd', 'dh', 'dh', 'hd', 'hd', 'hd', 'hd', 'hd', 'dh', 'ao', 'ao', 'ao', 'ao', 'l', 'hd', 'hd', 'hd', 'hd', 'hd', 'hd', 'hd', 'hd', 'ao', 'ao', '/', 'p', 'hu', 'hu', 'hu', 'hu', 'hu', 'hu', 'hu', 'hu', 'hu', 'd', 'r', 'r', 'r', 'r', 'm', 'm', 'm', 'm', 'm', 'm', '', 'mm', 'm', 'm', 'm', 'm', 'm', 'm', 'm', 'r', 'r', 'r', 'b', 'b', 'b', 'b', 'b', 'b', 'b', 'b', 'b', 'b', 'b', 'b', 'b', 'u', 'u', 'hu', 'hu', 'hu', 'hu', 'hu', 'hu', 'hu', 'hu', 'hu', 'hu', 'r', 'ao', 'p', 'u', 'u', 'hu', 'hu', 'l', 'l', 'l', 'l', 'l', 'l', 'l', 'hu', 'hu', 'hu', 'hu', 'hu', 'hu', 'hd', 'hd', 'hd', 'hd', 'hd', 'hd', 'hd', 'd', 'ao', 'ao', 'ao', 'ao', 'ao', 'ao', 'ao', 'ao']\n",
    "\n"
   ]
  },
  {
   "cell_type": "code",
   "execution_count": null,
   "id": "92b82d37",
   "metadata": {},
   "outputs": [],
   "source": [
    "manual_task(controller, 'FloorPlan15', logger_number =0, init_sequence=['m', 'm', 'r', 'r', 'm'])"
   ]
  },
  {
   "cell_type": "code",
   "execution_count": null,
   "id": "631e7035",
   "metadata": {},
   "outputs": [],
   "source": [
    "\n",
    "# controller.last_event.third_party_instance_masks\n"
   ]
  },
  {
   "cell_type": "code",
   "execution_count": null,
   "id": "393e4ea7",
   "metadata": {},
   "outputs": [],
   "source": []
  }
 ],
 "metadata": {
  "kernelspec": {
   "display_name": "Python 3",
   "language": "python",
   "name": "python3"
  },
  "language_info": {
   "codemirror_mode": {
    "name": "ipython",
    "version": 3
   },
   "file_extension": ".py",
   "mimetype": "text/x-python",
   "name": "python",
   "nbconvert_exporter": "python",
   "pygments_lexer": "ipython3",
   "version": "3.6.9"
  }
 },
 "nbformat": 4,
 "nbformat_minor": 5
}
