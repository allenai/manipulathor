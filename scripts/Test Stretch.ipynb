{
 "cells": [
  {
   "cell_type": "code",
   "execution_count": null,
   "id": "93156cb0",
   "metadata": {},
   "outputs": [],
   "source": [
    "import math\n",
    "import pdb\n",
    "import platform\n",
    "\n",
    "import ai2thor\n",
    "import copy\n",
    "import time\n",
    "import random\n",
    "import ai2thor.controller\n",
    "import datetime\n",
    "import cv2\n",
    "import os\n",
    "import matplotlib\n",
    "\n",
    "import matplotlib.pyplot as plt\n",
    "import os\n",
    "import numpy as np\n",
    "# from utils.mid_level_constants import  scene_start_cheating_init_pose\n",
    "import sys\n",
    "from IPython.display import Image, display\n",
    "import PIL.Image\n",
    "sys.path.append('../')\n",
    "\n",
    "from scripts.jupyter_helper import get_reachable_positions\n",
    "from scripts.stretch_jupyter_helper import get_relative_stretch_current_arm_state,two_dict_equal, ARM_MOVE_CONSTANT, only_reset_scene, transport_wrapper, ADITIONAL_ARM_ARGS, execute_command, WRIST_ROTATION, get_current_wrist_state\n",
    "from utils.stretch_utils.stretch_constants import STRETCH_ENV_ARGS, STRETCH_MANIPULATHOR_COMMIT_ID\n",
    "from scripts.dataset_generation.find_categories_to_use import ROBOTHOR_SCENE_NAMES\n",
    "matplotlib.use('TkAgg')\n",
    "screen_size=224\n",
    "\n",
    "STRETCH_ENV_ARGS['width'] = screen_size\n",
    "STRETCH_ENV_ARGS['height'] = screen_size\n",
    "STRETCH_ENV_ARGS['agentMode']='stretch'\n",
    "STRETCH_ENV_ARGS['commit_id']=STRETCH_MANIPULATHOR_COMMIT_ID\n",
    "STRETCH_ENV_ARGS['renderDepthImage'] = True\n",
    "STRETCH_ENV_ARGS['renderInstanceSegmentation'] = True\n"
   ]
  },
  {
   "cell_type": "code",
   "execution_count": null,
   "id": "fb44ec6a",
   "metadata": {},
   "outputs": [],
   "source": [
    "\n",
    "action_options = ['m', 'r', 'l', 'b', 'hu', 'hd', 'ao', 'ai', 'go', 'gc', 'wp', 'wn']\n",
    "\n",
    "kitchens = [f\"FloorPlan{i}\" for i in range(1, 31)]\n",
    "living_rooms = [f\"FloorPlan{200 + i}\" for i in range(1, 31)]\n",
    "bedrooms = [f\"FloorPlan{300 + i}\" for i in range(1, 31)]\n",
    "bathrooms = [f\"FloorPlan{400 + i}\" for i in range(1, 31)]\n",
    "\n",
    "all_scenes = kitchens + living_rooms + bedrooms + bathrooms + ROBOTHOR_SCENE_NAMES\n",
    "NUM_TESTS = 100\n",
    "EPS_LEN = 500\n",
    "\n",
    "def setup_thirdparty_camera(controller, camera_position):\n",
    "    # controller.step('Pass')\n",
    "    if len(controller.last_event.third_party_camera_frames) > 1:\n",
    "        controller.step('UpdateThirdPartyCamera',\n",
    "            thirdPartyCameraId=1, # id is available in the metadata response\n",
    "            rotation=camera_position['rotation'],\n",
    "            position=camera_position['position']\n",
    "            )\n",
    "    else:\n",
    "        controller.step('AddThirdPartyCamera', \n",
    "            rotation=camera_position['rotation'], \n",
    "            position=camera_position['position'],\n",
    "            fieldOfView=100)\n",
    "\n",
    "def manual_task(controller, scene_name, logger_number =0, final=False, save_frames = False, init_sequence=[], verbose = False):\n",
    "    only_reset_scene(controller, scene_name)\n",
    "    all_actions = []\n",
    "    all_action_details = []\n",
    "    actions_ran_so_far = 0\n",
    "    while(True):\n",
    "        visualize(controller, save_frames)\n",
    "        if len(init_sequence) > 0:\n",
    "            action = init_sequence[0]\n",
    "            init_sequence = init_sequence[1:]\n",
    "        else:\n",
    "            action = input('action?')\n",
    "        if action == 'q':\n",
    "            break\n",
    "        all_actions.append(action)\n",
    "\n",
    "        detail = execute_command(controller, action, ADITIONAL_ARM_ARGS)\n",
    "        if verbose:\n",
    "            print(detail, controller.last_event.metadata['lastActionSuccess'])\n",
    "        if not controller.last_event.metadata['lastActionSuccess']:\n",
    "            print('Failed', controller.last_event)\n",
    "        all_action_details.append(detail)\n",
    "        actions_ran_so_far += 1\n",
    "\n",
    "        # controller.step(action='MoveArm', coordinateSpace=\"wrist\", position=dict(x=0, y=0.2,z=0.2));visualize(controller, save_frames)\n",
    "        # controller.step(action='RotateWristRelative', yaw=90);visualize(controller, save_frames)\n",
    "\n",
    "    print(scene_name)\n",
    "    print(all_actions)\n",
    "    print(all_action_details)\n",
    "\n",
    "def visualize(controller, save_frame=False, top_view=True):\n",
    "    image = controller.last_event.frame\n",
    "    arm_view = controller.last_event.third_party_camera_frames[0]\n",
    "    combined=np.concatenate([image, arm_view], 1)\n",
    "    if top_view:\n",
    "        camera_position = {\n",
    "            'position': controller.last_event.metadata['cameraPosition'],\n",
    "            'rotation': dict(x=90,y=0,z=0)\n",
    "        }\n",
    "        camera_position['position']['y'] += 0.5\n",
    "        setup_thirdparty_camera(controller, camera_position)\n",
    "        third_view = controller.last_event.third_party_camera_frames[1]\n",
    "        combined=np.concatenate([combined, third_view], 1)\n",
    "            \n",
    "    im = PIL.Image.fromarray(combined)\n",
    "    display(im)\n",
    "    \n",
    "#     if STRETCH_ENV_ARGS['renderInstanceSegmentation']:\n",
    "#         print(set([k.split('|')[0] for k in controller.last_event.instance_masks.keys()]))\n",
    "#         print(set([k.split('|')[0] for k in controller.last_event.third_party_instance_masks[0].keys()]))\n",
    "    \n",
    "    if save_frame:\n",
    "        saved_image_folder = '/Users/kianae/Desktop/saved_stretch_images_jupyter'\n",
    "        os.makedirs(saved_image_folder, exist_ok=True)\n",
    "        imagename = datetime.datetime.now().strftime(\"%m_%d_%Y_%H_%M_%S.%f\")\n",
    "        plt.imsave(os.path.join(saved_image_folder, imagename+'.png'), combined)\n",
    "    \n",
    "\n"
   ]
  },
  {
   "cell_type": "code",
   "execution_count": null,
   "id": "70070e55",
   "metadata": {},
   "outputs": [],
   "source": [
    "controller = ai2thor.controller.Controller(**STRETCH_ENV_ARGS)"
   ]
  },
  {
   "cell_type": "code",
   "execution_count": null,
   "id": "7f08161a",
   "metadata": {
    "scrolled": true
   },
   "outputs": [],
   "source": [
    "# manual_task(controller, 'FloorPlan15', logger_number =0, init_sequence=['m', 'm', 'r', 'r', 'm', 'm', 'm', 'm', 'm', 'l', 'l', 'l', 'hu', 'hu', 'hu', 'hu', 'hu', 'hu', 'hu', 'hu', 'hu', 'hu', 'hu', 'hu', 'hu', 'hu', 'hu', 'hu', 'hu', 'hu', 'hu', 'hu', '/', 'zo', 'zo', 'zp', 'zp', 'ao', 'ao', 'ao', 'r', 'ao', 'p', 'hd', 'ao', 'ao', 'ao', 'ao', 'hd', 'hd', 'hd', '', 'hd', 'hd', 'ao', 'ao', 'wp', 'wn', 'wn', 'wn', 'wn', '/', 'p', 'u', 'u', 'hu', 'hu', 'r', 'r', 'r', 'r', 'r', 'm', 'm', 'm', 'd', 'ai', 'ai', 'ai', 'ai', 'ai', 'ai', 'r', 'r', 'l', 'ao', 'hd', 'hd', 'hd', 'hd', 'hd', 'hd', 'hd', 'hd', 'hd', 'dh', 'dh', 'hd', 'hd', 'hd', 'hd', 'hd', 'dh', 'ao', 'ao', 'ao', 'ao', 'l', 'hd', 'hd', 'hd', 'hd', 'hd', 'hd', 'hd', 'hd', 'ao', 'ao', '/', 'p', 'hu', 'hu', 'hu', 'hu', 'hu', 'hu', 'hu', 'hu', 'hu', 'd', 'r', 'r', 'r', 'r', 'm', 'm', 'm', 'm', 'm', 'm', '', 'mm', 'm', 'm', 'm', 'm', 'm', 'm', 'm'], save_frames=True, final=True)\n",
    "manual_task(controller, 'FloorPlan15', logger_number =0, init_sequence=['m', 'm', 'r', 'r', 'm', 'm', 'm', 'm', 'm', 'l', 'l', 'l', 'hu', 'hu', 'hu', 'hu', 'hu', 'hu', 'hu', 'hu', 'hu', 'hu', 'hu', 'hu', 'hu', 'hu', 'hu', 'hu', 'hu', 'hu', 'hu', 'hu', '/', 'zo', 'zo', 'zp', 'zp', 'ao', 'ao', 'ao', 'r', 'ao', 'p', 'hd', 'ao', 'ao', 'ao', 'ao', 'hd', 'hd', 'hd', '', 'hd', 'hd', 'ao', 'ao', 'wp', 'wn', 'wn', 'wn', 'wn', '/', 'p', 'u', 'u', 'hu', 'hu', 'r', 'r', 'r', 'r', 'r', 'm', 'm', 'm', 'd', 'ai', 'ai', 'ai', 'ai', 'ai', 'ai', 'r', 'r', 'l', 'ao', 'hd', 'hd', 'hd', 'hd', 'hd', 'hd', 'hd', 'hd', 'hd', 'dh', 'dh', 'hd', 'hd', 'hd', 'hd', 'hd', 'dh', 'ao', 'ao', 'ao', 'ao', 'l', 'hd', 'hd', 'hd', 'hd', 'hd', 'hd', 'hd', 'hd', 'ao', 'ao', '/', 'p', 'hu', 'hu', 'hu', 'hu', 'hu', 'hu', 'hu', 'hu', 'hu', 'd', 'r', 'r', 'r', 'r', 'm', 'm', 'm', 'm', 'm', 'm', '', 'mm', 'm', 'm', 'm', 'm', 'm', 'm', 'm', 'r', 'r', 'r', 'b', 'b', 'b', 'b', 'b', 'b', 'b', 'b', 'b', 'b', 'b', 'b', 'b', 'u', 'u', 'hu', 'hu', 'hu', 'hu', 'hu', 'hu', 'hu', 'hu', 'hu', 'hu', 'r', 'ao', 'p', 'u', 'u', 'hu', 'hu', 'l', 'l', 'l', 'l', 'l', 'l', 'l', 'hu', 'hu', 'hu', 'hu', 'hu', 'hu'], save_frames=True, final=False)"
   ]
  },
  {
   "cell_type": "code",
   "execution_count": null,
   "id": "631e7035",
   "metadata": {},
   "outputs": [],
   "source": [
    "seq=['m', 'm', 'r', 'r', 'm', 'l', 'l', 'm', 'm', 'l', 'l', 'hu', 'hu', 'hu', 'hu', 'hu', 'hu', 'hu', 'hu', 'hu', 'hu', 'hu', 'hu', 'hu', 'hu', 'hu', 'hu', 'hu', 'hu', 'hu', 'hu', 'ao', 'ao', 'ao', 'ao', 'ao', 'hd', 'hd', 'hd', 'hd', 'dh', 'ao', 'ao', 'ao', 'hd', 'hd', 'dh', 'wp', 'wp', '/', 'p', 'hu', 'hu', 'ai', 'ai', 'ai', 'ai', 'ai', 'ai', 'ai', 'ai', 'ai', 'wp', 'wp', 'wp', 'wp', 'wp', 'wp', 'l', 'l', 'l', 'l', 'l', 'l', 'r', 'r', 'm', 'm', 'm', 'm', 'm', 'm', 'm', 'r', 'm', 'm', 'r', 'm', 'm', 'm', 'm', 'm', 'l', 'm', 'm', 'l', 'm', 'm', 'm', 'm', 'm', 'm', 'm', 'r', 'm', 'm', 'm', 'm', 'm', 'm', 'm', 'm', 'm', 'l', 'l', 'ao', 'ao', 'ao', 'ao', 'ao', 'ao', 'ao', 'd', 'ai', 'ai', 'ai', 'ai', 'ai', 'ai', 'hd', 'hd', 'hd', 'h', 'dh', 'hd', 'hd', 'hd', 'hd', 'dh', 'dh', 'dh', 'r', 'ao', 'ao', 'ao', 'ao', 'ao', 'ao', 'ao', 'a', 'oao', 'hd', 'hd', 'dh', 'dh', 'l', 'hd', 'dh', 'dh', 'dh', 'ai', 'ai', 'ai', 'wn', 'wn', 'wn', 'wn', 'wn', 'wn', 'wn', 'wn', 'wn', 'wn', 'wn', 'wn', 'wn', 'wn', 'wn', 'ao', 'ao', 'hd', 'hd', 'hd', 'hd', '/', 'p', 'hu', 'hu', 'hu', 'hu', 'hu', 'hu', 'hu', 'hu', 'l', 'hu', 'hu', 'hu', 'hu', 'hu', 'hu', 'hu', 'r', 'r', 'm', 'r', 'r', 'r', 'r', 'b', 'b', 'b', 'b', 'b', 'l', 'ao', 'ao', 'ao', 'ao', 'ao', 'a', 'ao', 'ao', 'ao', 'ao', 'ao', 'ao', 'ao', 'ao', 'ao', 'd', 'ai', 'ai', 'ai', 'ai', 'ai', 'ai', 'ai', 'ai', 'ai', 'ai', 'ai', 'ai', 'ai', 'ai', 'ai', 'ai']\n",
    "\n",
    "manual_task(controller, ROBOTHOR_SCENE_NAMES[2], logger_number =0, init_sequence=seq,verbose=True,save_frames=False)"
   ]
  },
  {
   "cell_type": "code",
   "execution_count": null,
   "id": "04ef169a",
   "metadata": {},
   "outputs": [],
   "source": [
    "controller.reset('FloorPlan301')\n",
    "visualize(controller)"
   ]
  },
  {
   "cell_type": "code",
   "execution_count": null,
   "id": "e8de2d48",
   "metadata": {},
   "outputs": [],
   "source": [
    "seq = ['m', 'm', 'm', 'm', 'm', 'm', 'm', 'm', 'm', 'm', 'l', 'l', 'l', 'm', 'm', 'm', 'm', 'm', 'm', 'm', 'b', 'r', 'r', 'b', 'b', 'b', 'l', 'm', 'm', 'm', 'l', 'm', 'm', 'l', 'r', 'r', 'm', 'm', 'm', 'r', 'r', 'm', 'm', 'm', 'r', 'r', 'm', 'm', 'r', 'm', 'm', 'l', 'l', 'hu', 'hu', 'hu', 'hu', 'r', 'b', 'l', 'l', 'hu', 'hu', 'hu', 'hu', 'hu', 'hu', 'hu', 'hu', 'hu', 'hu', 'hu', 'ao', 'ao', 'ao', 'ao', 'ao', 'ao', 'ao', 'ao', 'ao', 'ao', 'hd', '/', 'p', 'hu', 'hu', 'hu', 'hu', 'hu', 'hu', 'hu', 'hu', 'hu', 'hu', 'hu', 'l', 'b', 'b', 'r', 'b', 'b', 'b', 'b', 'b', 'b', 'b']\n",
    "\n",
    "manual_task(controller, 'FloorPlan301', logger_number =0, init_sequence=seq, save_frames=True, final=False)"
   ]
  },
  {
   "cell_type": "code",
   "execution_count": null,
   "id": "232746b0",
   "metadata": {},
   "outputs": [],
   "source": [
    "print(controller.last_event.metadata['arm']['joints'][-1]['rootRelativePosition'])\n",
    "controller.step('MoveArm', position=dict(x=0,y=.1,z=0))\n",
    "print(controller.last_event.metadata['arm']['joints'][-1]['rootRelativePosition'])\n",
    "controller.step('MoveArm', position=dict(x=0,y=1,z=0))\n",
    "print(controller.last_event.metadata['arm']['joints'][-1]['rootRelativePosition'])\n",
    "controller.step('MoveArm', position=dict(x=0,y=1,z=1))\n",
    "print(controller.last_event.metadata['arm']['joints'][-1]['rootRelativePosition'])\n",
    "controller.step('MoveArm', position=dict(x=0,y=2,z=0))\n",
    "print(controller.last_event.metadata['arm']['joints'][-1]['rootRelativePosition'])\n",
    "controller.step('MoveArm', position=dict(x=0,y=0,z=0.5))\n",
    "print(controller.last_event.metadata['arm']['joints'][-1]['rootRelativePosition'])\n",
    "controller.step('MoveArm', position=dict(x=0,y=0,z=0.0))\n",
    "print(controller.last_event.metadata['arm']['joints'][-1]['rootRelativePosition'])"
   ]
  },
  {
   "cell_type": "code",
   "execution_count": null,
   "id": "a55b1bbc",
   "metadata": {},
   "outputs": [],
   "source": [
    "for i in range(20):\n",
    "    controller.step('MoveArm', position=dict(x=0,y=i*0.1,z=0.0))\n",
    "    print(controller.last_event.metadata['arm']['joints'][-1]['rootRelativePosition'])\n",
    "    \n",
    "for i in range(20):\n",
    "    controller.step('MoveArm', position=dict(x=0,y=0,z=i * 0.1))\n",
    "    print(controller.last_event.metadata['arm']['joints'][-1]['rootRelativePosition'])\n",
    "#     visualize(controller)"
   ]
  },
  {
   "cell_type": "code",
   "execution_count": null,
   "id": "6f8c07b6",
   "metadata": {},
   "outputs": [],
   "source": [
    "visualize(controller)"
   ]
  },
  {
   "cell_type": "code",
   "execution_count": null,
   "id": "415c0128",
   "metadata": {},
   "outputs": [],
   "source": [
    "seq=['r', 'r', 'm', 'm', 'm', 'l', 'l', 'm', 'm', 'm', 'r', 'm', 'm', 'm', 'hu', 'hu', 'hu', 'hu', 'hu']\n",
    "manual_task(controller, 'FloorPlan310', logger_number =0, init_sequence=seq, save_frames=False, final=False)"
   ]
  },
  {
   "cell_type": "code",
   "execution_count": null,
   "id": "5cd95faf",
   "metadata": {},
   "outputs": [],
   "source": []
  },
  {
   "cell_type": "code",
   "execution_count": null,
   "id": "5c002f9b",
   "metadata": {},
   "outputs": [],
   "source": []
  },
  {
   "cell_type": "code",
   "execution_count": null,
   "id": "59e22ab8",
   "metadata": {},
   "outputs": [],
   "source": []
  },
  {
   "cell_type": "code",
   "execution_count": null,
   "id": "b57da134",
   "metadata": {},
   "outputs": [],
   "source": [
    "controller.reset('FloorPlan310')\n",
    "list_of_action = [{'action': 'PlaceObjectAtPoint', 'objectId': 'AlarmClock|+01.71|+00.67|-00.86', 'position': {'x': 1.039222240447998, 'y': 0.985424280166626, 'z': 0.23899996280670166}, 'forceKinematic': True}, {'action': 'AdvancePhysicsStep', 'simSeconds': 1.0}, {'action': 'PlaceObjectAtPoint', 'objectId': 'Book|-00.56|+00.84|-02.14', 'position': {'x': -1.2399827241897583, 'y': 1.9169363975524902, 'z': -2.0558547973632812}, 'forceKinematic': True}, {'action': 'AdvancePhysicsStep', 'simSeconds': 1.0}, {'action': 'TeleportFull', 'standing': True, 'x': -0.5, 'y': 0.9009925723075867, 'z': 0.0, 'rotation': {'x': 0, 'y': 180, 'z': 0}, 'horizon': 20}, {'action': 'MoveAgent', 'disableRendering': True, 'returnToStart': True, 'speed': 1, 'ahead': 0.2}, {'action': 'MoveAgent', 'disableRendering': True, 'returnToStart': True, 'speed': 1, 'ahead': 0.2}, {'action': 'MoveAgent', 'disableRendering': True, 'returnToStart': True, 'speed': 1, 'ahead': 0.2}, {'action': 'MoveAgent', 'disableRendering': True, 'returnToStart': True, 'speed': 1, 'ahead': 0.2}, {'action': 'MoveAgent', 'disableRendering': True, 'returnToStart': True, 'speed': 1, 'ahead': 0.2}, {'action': 'MoveAgent', 'disableRendering': True, 'returnToStart': True, 'speed': 1, 'ahead': 0.2}, {'action': 'MoveAgent', 'disableRendering': True, 'returnToStart': True, 'speed': 1, 'ahead': -0.2}, {'action': 'MoveAgent', 'disableRendering': True, 'returnToStart': True, 'speed': 1, 'ahead': -0.2}, {'action': 'RotateAgent', 'disableRendering': True, 'returnToStart': True, 'speed': 1, 'degrees': -30}, {'action': 'RotateAgent', 'disableRendering': True, 'returnToStart': True, 'speed': 1, 'degrees': -30}, {'action': 'MoveAgent', 'disableRendering': True, 'returnToStart': True, 'speed': 1, 'ahead': 0.2}, {'action': 'MoveAgent', 'disableRendering': True, 'returnToStart': True, 'speed': 1, 'ahead': 0.2}, {'action': 'MoveAgent', 'disableRendering': True, 'returnToStart': True, 'speed': 1, 'ahead': 0.2}, {'action': 'MoveAgent', 'disableRendering': True, 'returnToStart': True, 'speed': 1, 'ahead': 0.2}, {'action': 'MoveAgent', 'disableRendering': True, 'returnToStart': True, 'speed': 1, 'ahead': 0.2}, {'action': 'MoveAgent', 'disableRendering': True, 'returnToStart': True, 'speed': 1, 'ahead': 0.2}, {'action': 'MoveArm', 'position': {'x': -7.213279604911804e-05, 'y': 0.05, 'z': -6.073713302612305e-05}, 'disableRendering': True, 'returnToStart': True, 'speed': 1}, {'action': 'MoveArm', 'position': {'x': -7.213279604911804e-05, 'y': 0.09999995231628418, 'z': -6.073713302612305e-05}, 'disableRendering': True, 'returnToStart': True, 'speed': 1}, {'action': 'MoveArm', 'position': {'x': -7.213279604911804e-05, 'y': 0.14999990463256835, 'z': -6.073713302612305e-05}, 'disableRendering': True, 'returnToStart': True, 'speed': 1}, {'action': 'MoveArm', 'position': {'x': -7.213279604911804e-05, 'y': 0.19999985694885253, 'z': -6.073713302612305e-05}, 'disableRendering': True, 'returnToStart': True, 'speed': 1}, {'action': 'MoveArm', 'position': {'x': -7.213279604911804e-05, 'y': 0.2499998092651367, 'z': -6.073713302612305e-05}, 'disableRendering': True, 'returnToStart': True, 'speed': 1}, {'action': 'MoveArm', 'position': {'x': -7.213279604911804e-05, 'y': 0.2999997615814209, 'z': -6.073713302612305e-05}, 'disableRendering': True, 'returnToStart': True, 'speed': 1}, {'action': 'MoveAgent', 'disableRendering': True, 'returnToStart': True, 'speed': 1, 'ahead': 0.2}, {'action': 'RotateAgent', 'disableRendering': True, 'returnToStart': True, 'speed': 1, 'degrees': 30}, {'action': 'MoveAgent', 'disableRendering': True, 'returnToStart': True, 'speed': 1, 'ahead': 0.2}]\n",
    "for act in list_of_action:\n",
    "    controller.step(**act)\n",
    "    controller.step('Pass')\n",
    "    visualize(controller)"
   ]
  },
  {
   "cell_type": "code",
   "execution_count": null,
   "id": "a3935f77",
   "metadata": {},
   "outputs": [],
   "source": [
    "controller._build.url"
   ]
  },
  {
   "cell_type": "code",
   "execution_count": null,
   "id": "6c49c57a",
   "metadata": {},
   "outputs": [],
   "source": [
    "{'gridSize': 0.25, 'width': 224, 'height': 224, 'visibilityDistance': 1.5, 'fieldOfView': 100, 'agentControllerType': 'mid-level', 'server_class': <class 'ai2thor.fifo_server.FifoServer'>, 'useMassThreshold': True, 'massThreshold': 10, 'autoSimulation': False, 'autoSyncTransforms': True, 'renderInstanceSegmentation': True, 'agentMode': 'stretch', 'renderDepthImage': True, 'commit_id': 'cf23e657aa4738324d09cc79d5f78ea741bf20bf', 'x_display': '0.-1'}"
   ]
  }
 ],
 "metadata": {
  "kernelspec": {
   "display_name": "Python 3",
   "language": "python",
   "name": "python3"
  },
  "language_info": {
   "codemirror_mode": {
    "name": "ipython",
    "version": 3
   },
   "file_extension": ".py",
   "mimetype": "text/x-python",
   "name": "python",
   "nbconvert_exporter": "python",
   "pygments_lexer": "ipython3",
   "version": "3.6.9"
  }
 },
 "nbformat": 4,
 "nbformat_minor": 5
}
