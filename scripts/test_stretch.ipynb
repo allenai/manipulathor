{
 "cells": [
  {
   "cell_type": "code",
   "execution_count": 4,
   "id": "bound-edward",
   "metadata": {},
   "outputs": [
    {
     "data": {
      "text/plain": [
       "'http://s3-us-west-2.amazonaws.com/ai2-thor-public/builds/thor-OSXIntel64-0926269d868a505fc81e69b474b1bfc1d5c06231.zip'"
      ]
     },
     "execution_count": 4,
     "metadata": {},
     "output_type": "execute_result"
    }
   ],
   "source": [
    "import ai2thor\n",
    "import copy\n",
    "import time\n",
    "import random\n",
    "import ai2thor.controller\n",
    "import datetime\n",
    "import cv2\n",
    "import os\n",
    "import matplotlib.pyplot as plt\n",
    "import os\n",
    "import numpy as np\n",
    "# from utils.mid_level_constants import  scene_start_cheating_init_pose\n",
    "from stretch_jupyter_helper import ENV_ARGS, initialize_arm, only_reset_scene, transport_wrapper, ADITIONAL_ARM_ARGS, execute_command\n",
    "\n",
    "screen_size=224\n",
    "\n",
    "ENV_ARGS['width'] = screen_size\n",
    "ENV_ARGS['height'] = screen_size\n",
    "ENV_ARGS['agentMode']='stretch'\n",
    "ENV_ARGS['commit_id']='0926269d868a505fc81e69b474b1bfc1d5c06231'\n",
    "\n",
    "saved_image_folder = '/Users/kianae/Desktop/saved_stretch_images'\n",
    "os.makedirs(saved_image_folder, exist_ok=True)\n",
    "\n",
    "controller = ai2thor.controller.Controller(**ENV_ARGS, renderDepthImage=True, renderInstanceSegmentation=True)\n",
    "controller._build.url"
   ]
  },
  {
   "cell_type": "code",
   "execution_count": 5,
   "id": "integrated-transportation",
   "metadata": {},
   "outputs": [],
   "source": [
    "def translate(action):\n",
    "    translation = {\n",
    "        'MoveArmHeightM': 'j',\n",
    "        'MoveArmHeightP': 'u',\n",
    "        'MoveArmZM': 'z',\n",
    "        'MoveArmZP': 'w',\n",
    "#         'MoveArmYM': '4',\n",
    "#         'MoveArmYP': '3',\n",
    "        'MoveAhead': 'm',\n",
    "        'RotateRight': 'r',\n",
    "        'RotateLeft': 'l',\n",
    "        '':'',\n",
    "        'Done':'q',\n",
    "        'PickUp':'p', \n",
    "        'Finish': 'q',\n",
    "        'Drop': 'd',\n",
    "    }\n",
    "    return translation[action]\n",
    "def setup_thirdparty_camera(controller, camera_position):\n",
    "    controller.step('Pass')\n",
    "    if len(controller.last_event.third_party_camera_frames) > 0:\n",
    "        controller.step('UpdateThirdPartyCamera',\n",
    "            thirdPartyCameraId=0, # id is available in the metadata response\n",
    "            rotation=camera_position['rotation'],\n",
    "            position=camera_position['position']\n",
    "            )\n",
    "    else:\n",
    "        controller.step('AddThirdPartyCamera', \n",
    "            rotation=camera_position['rotation'], \n",
    "            position=camera_position['position'],\n",
    "            fieldOfView=100)\n",
    "def visualize(controller, save=False):\n",
    "    agent_rotation = {'x':0, 'y':225, 'z':0}\n",
    "    agent_camera = controller.last_event.metadata['cameraPosition']\n",
    "    agent_camera['y'] += 0.2\n",
    "    agent_camera['z'] += 1\n",
    "    agent_camera['x'] += 1\n",
    "    camera_position = {\n",
    "        'position': agent_camera,\n",
    "        'rotation': \n",
    "            agent_rotation\n",
    "    }\n",
    "    controller.step('Pass')\n",
    "    setup_thirdparty_camera(controller, camera_position)\n",
    "    image = controller.last_event.frame\n",
    "    third_view = controller.last_event.third_party_camera_frames[0]\n",
    "    combined=np.concatenate([image, third_view], 0)\n",
    "    \n",
    "    imagename = datetime.datetime.now().strftime(\"%m_%d_%Y_%H_%M_%S.%f\")\n",
    "    if save:\n",
    "        plt.imsave(os.path.join(saved_image_folder, imagename+'.png'), combined)\n",
    "    else:\n",
    "        plt.imshow(combined)\n",
    "    \n",
    "def run_action_sequence(controller, action_sequence, object_id=None, target_location=None, logger_number=0, translated=False, seq_num_start = 0):\n",
    "    picked_up = False\n",
    "    if translated:\n",
    "        translated_sequence = action_sequence\n",
    "    else:\n",
    "        translated_sequence = [translate(action) for action in action_sequence if action != '']\n",
    "    for (seq_number, seq) in enumerate(translated_sequence):\n",
    "        execute_command(controller, seq,ADITIONAL_ARM_ARGS)\n",
    "                \n",
    "def manual_task(scene_name, logger_number =0, final=False, reverse=False):\n",
    "    only_reset_scene(controller, scene_name)\n",
    "    all_actions = []\n",
    "    actions_ran_so_far = 0\n",
    "    while(True):\n",
    "        visualize(controller, False)\n",
    "        action = input()\n",
    "        if not reverse:\n",
    "            action = translate(action)\n",
    "        if action == 'q':\n",
    "            break\n",
    "        all_actions.append(action)\n",
    "        \n",
    "        run_action_sequence(controller, [action], \n",
    "                            logger_number=logger_number, translated=True, seq_num_start=actions_ran_so_far)\n",
    "        actions_ran_so_far += 1\n",
    "        plt.cla()\n",
    "        plt.imshow(controller.last_event.frame)\n",
    "        plt.show()\n",
    "        \n",
    "    print(scene_name)\n",
    "    print(all_actions)\n"
   ]
  },
  {
   "cell_type": "code",
   "execution_count": 6,
   "id": "17bc85c7",
   "metadata": {},
   "outputs": [],
   "source": [
    "camera_position = {\n",
    "    'position': {'x': -1.3581395149230957,\n",
    "   'y': 1.8946828126907349,\n",
    "   'z': 3.151395082473755},\n",
    "    'rotation': {\n",
    "        'x':0,\n",
    "        'y':40,\n",
    "        'z':0\n",
    "    }\n",
    "}\n",
    "controller.reset('FloorPlan2')\n",
    "setup_thirdparty_camera(controller, camera_position)\n",
    "for i in range(100):\n",
    "    random_number = random.random()\n",
    "    action = random.choice(['m', 'r', 'l', 'lift', 'reach', 'p', 'd'])\n",
    "    if action == 'lift':\n",
    "        controller.step(\n",
    "            action=\"MoveArmBase\",\n",
    "            y=random.random() - 0.2,\n",
    "            speed=1,\n",
    "            returnToStart=True,\n",
    "            fixedDeltaTime=0.02\n",
    "        )\n",
    "    elif action == 'reach':\n",
    "        controller.step(\n",
    "            action=\"MoveArm\",\n",
    "            position=dict(x=0, y=0, z=random.random()),\n",
    "            coordinateSpace=\"armBase\",\n",
    "            restrictMovement=False,\n",
    "            speed=1,\n",
    "            returnToStart=True,\n",
    "            fixedDeltaTime=0.02\n",
    "        )\n",
    "    elif action == 'm':\n",
    "        controller.step(\n",
    "            action='MoveAhead',\n",
    "        )\n",
    "    elif action == 't':\n",
    "        controller.step(\n",
    "            action='RotateRight',\n",
    "        )\n",
    "    elif action == 'l':\n",
    "        controller.step(\n",
    "            action='RotateLeft',\n",
    "        )\n",
    "    elif action == 'p':\n",
    "        controller.step(\n",
    "            action='PickupObject',\n",
    "        )\n",
    "    elif action == 'd':\n",
    "        controller.step(\n",
    "            action='ReleaseObject',\n",
    "        )\n",
    "\n",
    "    visualize(controller, True)"
   ]
  },
  {
   "cell_type": "code",
   "execution_count": 83,
   "id": "94eccf98",
   "metadata": {},
   "outputs": [],
   "source": [
    "controller.reset('FloorPlan2')\n",
    "controller.step('RotateRight', degrees=225)\n",
    "controller.step(action='MoveArm', position=dict(x=0, y=0.2, z=0.2))\n",
    "first_location = copy.deepcopy(controller.last_event.metadata['arm']['joints'])\n",
    "visualize(controller, save=True)\n",
    "controller.step(action='MoveArm', position=dict(x=0, y=1.9, z=1))\n",
    "second_location = copy.deepcopy(controller.last_event.metadata['arm']['joints'])\n",
    "visualize(controller, save=True)\n"
   ]
  },
  {
   "cell_type": "code",
   "execution_count": 84,
   "id": "759f96df",
   "metadata": {},
   "outputs": [],
   "source": [
    "controller.reset('FloorPlan2')\n",
    "controller.step('RotateRight', degrees=225)\n",
    "controller.step(action='MoveArm', position=dict(x=0, y=0.99, z=0.99))\n",
    "visualize(controller, save=True)"
   ]
  },
  {
   "cell_type": "code",
   "execution_count": null,
   "id": "6d0294a5",
   "metadata": {},
   "outputs": [],
   "source": [
    "manual_task('FloorPlan1', logger_number =0, final=False, reverse=True)"
   ]
  },
  {
   "cell_type": "code",
   "execution_count": 57,
   "id": "f527ea0c",
   "metadata": {},
   "outputs": [
    {
     "data": {
      "text/plain": [
       "['stretch_robot_lift',\n",
       " 'stretch_robot_arm_1',\n",
       " 'stretch_robot_arm_2',\n",
       " 'stretch_robot_arm_3',\n",
       " 'stretch_robot_arm_4',\n",
       " 'stretch_robot_arm_5',\n",
       " 'stretch_robot_wrist_1',\n",
       " 'stretch_robot_wrist_2']"
      ]
     },
     "execution_count": 57,
     "metadata": {},
     "output_type": "execute_result"
    }
   ],
   "source": [
    "[x['name'] for x in first_location]"
   ]
  },
  {
   "cell_type": "code",
   "execution_count": 66,
   "id": "cc08a88b",
   "metadata": {},
   "outputs": [
    {
     "data": {
      "text/plain": [
       "[(1.4901161193847656e-08, 0.0),\n",
       " (7.450580596923828e-08, 0.0),\n",
       " (7.450580596923828e-08, 0.0),\n",
       " (7.450580596923828e-08, 0.0),\n",
       " (7.450580596923828e-08, 0.0),\n",
       " (7.450580596923828e-08, 0.0),\n",
       " (0.007252171635627747, 0.007252216339111328),\n",
       " (-0.030750200152397156, -0.030750274658203125)]"
      ]
     },
     "execution_count": 66,
     "metadata": {},
     "output_type": "execute_result"
    }
   ],
   "source": [
    "([(first_location[i]['rootRelativePosition']['y'], second_location[i]['rootRelativePosition']['y']) for i in range(len(first_location))])"
   ]
  },
  {
   "cell_type": "code",
   "execution_count": 67,
   "id": "3fb5e108",
   "metadata": {},
   "outputs": [
    {
     "data": {
      "text/plain": [
       "[(0.24778443574905396, 1.2927844524383545),\n",
       " (0.24778449535369873, 1.2927844524383545),\n",
       " (0.24778449535369873, 1.2927844524383545),\n",
       " (0.24778449535369873, 1.2927844524383545),\n",
       " (0.24778449535369873, 1.2927844524383545),\n",
       " (0.24778449535369873, 1.2927844524383545),\n",
       " (0.2550365924835205, 1.3000366687774658),\n",
       " (0.2170342206954956, 1.2620341777801514)]"
      ]
     },
     "execution_count": 67,
     "metadata": {},
     "output_type": "execute_result"
    }
   ],
   "source": [
    "([(first_location[i]['position']['y'], second_location[i]['position']['y']) for i in range(len(first_location))])"
   ]
  },
  {
   "cell_type": "code",
   "execution_count": 68,
   "id": "c4af7329",
   "metadata": {},
   "outputs": [
    {
     "data": {
      "text/plain": [
       "[(-1.0430814256778831e-07, -1.0430814256778831e-07),\n",
       " (-4.172325134277344e-07, -4.172325134277344e-07),\n",
       " (-4.172325134277344e-07, -4.76837158203125e-07),\n",
       " (-4.172325134277344e-07, -4.76837158203125e-07),\n",
       " (-4.172325134277344e-07, -5.364418029785156e-07),\n",
       " (-3.8743019104003906e-07, -5.960464477539062e-07),\n",
       " (0.08307120203971863, 0.08307099342346191),\n",
       " (0.08304527401924133, 0.0830451250076294)]"
      ]
     },
     "execution_count": 68,
     "metadata": {},
     "output_type": "execute_result"
    }
   ],
   "source": [
    "([(first_location[i]['rootRelativePosition']['z'], second_location[i]['rootRelativePosition']['z']) for i in range(len(first_location))])"
   ]
  },
  {
   "cell_type": "code",
   "execution_count": 69,
   "id": "f015a2fd",
   "metadata": {},
   "outputs": [
    {
     "data": {
      "text/plain": [
       "[(2.108029365539551, 2.108029365539551),\n",
       " (1.9279218912124634, 1.9279218912124634),\n",
       " (1.918729305267334, 1.7761588096618652),\n",
       " (1.909536600112915, 1.6243956089019775),\n",
       " (1.9003440141677856, 1.472632646560669),\n",
       " (1.9109541177749634, 1.3406721353530884),\n",
       " (1.9696946144104004, 1.3994126319885254),\n",
       " (1.969632863998413, 1.399350881576538)]"
      ]
     },
     "execution_count": 69,
     "metadata": {},
     "output_type": "execute_result"
    }
   ],
   "source": [
    "([(first_location[i]['position']['z'], second_location[i]['position']['z']) for i in range(len(first_location))])"
   ]
  },
  {
   "cell_type": "code",
   "execution_count": 70,
   "id": "3ec1e451",
   "metadata": {},
   "outputs": [
    {
     "data": {
      "text/plain": [
       "[(2.9802311729554276e-08, 2.9802311729554276e-08),\n",
       " (0.25471022725105286, 0.25471022725105286),\n",
       " (0.26771050691604614, 0.4693356156349182),\n",
       " (0.28071093559265137, 0.6839612126350403),\n",
       " (0.29371121525764465, 0.898586630821228),\n",
       " (0.27870631217956543, 1.0852067470550537),\n",
       " (0.27870625257492065, 1.0852068662643433),\n",
       " (0.2787676751613617, 1.085268259048462)]"
      ]
     },
     "execution_count": 70,
     "metadata": {},
     "output_type": "execute_result"
    }
   ],
   "source": [
    "([(first_location[i]['rootRelativePosition']['x'], second_location[i]['rootRelativePosition']['x']) for i in range(len(first_location))])"
   ]
  },
  {
   "cell_type": "code",
   "execution_count": 71,
   "id": "a7fa6b1b",
   "metadata": {},
   "outputs": [
    {
     "data": {
      "text/plain": [
       "[(-1.082889437675476, -1.082889437675476),\n",
       " (-0.9027823805809021, -0.9027823805809021),\n",
       " (-0.8935897946357727, -0.7510193586349487),\n",
       " (-0.8843970894813538, -0.599256157875061),\n",
       " (-0.8752045035362244, -0.44749313592910767),\n",
       " (-0.8858145475387573, -0.3155328631401062),\n",
       " (-0.8270741105079651, -0.2567923069000244),\n",
       " (-0.8270490169525146, -0.256767213344574)]"
      ]
     },
     "execution_count": 71,
     "metadata": {},
     "output_type": "execute_result"
    }
   ],
   "source": [
    "([(first_location[i]['position']['x'], second_location[i]['position']['x']) for i in range(len(first_location))])"
   ]
  },
  {
   "cell_type": "code",
   "execution_count": null,
   "id": "a11c0859",
   "metadata": {},
   "outputs": [],
   "source": []
  },
  {
   "cell_type": "code",
   "execution_count": null,
   "id": "53dc8d53",
   "metadata": {},
   "outputs": [],
   "source": []
  }
 ],
 "metadata": {
  "kernelspec": {
   "display_name": "Python 3",
   "language": "python",
   "name": "python3"
  },
  "language_info": {
   "codemirror_mode": {
    "name": "ipython",
    "version": 3
   },
   "file_extension": ".py",
   "mimetype": "text/x-python",
   "name": "python",
   "nbconvert_exporter": "python",
   "pygments_lexer": "ipython3",
   "version": "3.6.9"
  }
 },
 "nbformat": 4,
 "nbformat_minor": 5
}
